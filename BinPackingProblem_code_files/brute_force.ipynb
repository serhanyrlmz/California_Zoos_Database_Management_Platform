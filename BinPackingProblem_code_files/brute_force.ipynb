{
  "nbformat": 4,
  "nbformat_minor": 0,
  "metadata": {
    "colab": {
      "provenance": []
    },
    "kernelspec": {
      "name": "python3",
      "display_name": "Python 3"
    },
    "language_info": {
      "name": "python"
    }
  },
  "cells": [
    {
      "cell_type": "code",
      "execution_count": 6,
      "metadata": {
        "colab": {
          "base_uri": "https://localhost:8080/"
        },
        "id": "0GGGnZsD0O0Z",
        "outputId": "ef5d7015-317a-46a0-ed8c-07bf820c3004"
      },
      "outputs": [
        {
          "output_type": "stream",
          "name": "stdout",
          "text": [
            "Sizes of items: [3, 9, 3, 11, 13, 7, 12, 6, 9]\n",
            "Number of items: 9\n",
            "Bin capacity: 14\n",
            "Permutation: (3, 9, 3, 11, 13, 7, 6, 12, 9)\n",
            "Minimum number of bins required (desired output): 6\n",
            "Distribution of items into bins: [[3, 9], [3, 11], [13], [7, 6], [12], [9]]\n"
          ]
        }
      ],
      "source": [
        "import sys\n",
        "import itertools\n",
        "import random\n",
        "\n",
        "def nextfit(weight,c):\n",
        "  res = 0\n",
        "  rem = c\n",
        "  subArr =[]\n",
        "  temp =[]\n",
        "  for _ in range(len(weight)):\n",
        "    if rem>= weight[_]:\n",
        "      rem=rem- weight[_]\n",
        "      temp.append(weight[_])\n",
        "    else:\n",
        "      subArr.append(temp)\n",
        "      temp=[]\n",
        "      res += 1\n",
        "      rem = c-weight[_]\n",
        "      temp.append(weight[_])\n",
        "  subArr.append(temp)\n",
        "  return res+1, subArr\n",
        "\n",
        "#GENERATING TEST CASES\n",
        "def generate_instances(num_tests, item_num_range, bin_capacity_range):\n",
        "    instances = []\n",
        "    for i in range(num_tests):\n",
        "        bin_capacity = random.randint(bin_capacity_range[0], bin_capacity_range[1])\n",
        "        max_item_size = bin_capacity\n",
        "        num_items = random.randint(item_num_range[0], item_num_range[1])\n",
        "        items = [random.randint(1, max_item_size) for j in range(num_items)]\n",
        "        instances.append((bin_capacity, items))\n",
        "    return instances\n",
        "\n",
        "# Generate a single test case\n",
        "instances = generate_instances(1, (5, 10), (4, 15))\n",
        "for bin_capacity, items in instances:\n",
        "    print(\"Sizes of items:\", items)\n",
        "    print(\"Number of items:\", len(items))\n",
        "    print(\"Bin capacity:\", bin_capacity)\n",
        "\n",
        "#SOLVING THE PROBLEM\n",
        "permutations = list(itertools.permutations(items))\n",
        "min = sys.maxsize\n",
        "minArr = []\n",
        "minPermutation = []\n",
        "\n",
        "for elem in permutations:\n",
        "  res, subArr = nextfit(elem, bin_capacity)\n",
        "  if res<min:\n",
        "    min=res\n",
        "    minArr=subArr\n",
        "    minPermutation= elem\n",
        "\n",
        "print(f\"Permutation: {minPermutation}\")\n",
        "print(f\"Minimum number of bins required (desired output): {min}\")\n",
        "print(f\"Distribution of items into bins: {minArr}\")\n"
      ]
    }
  ]
}