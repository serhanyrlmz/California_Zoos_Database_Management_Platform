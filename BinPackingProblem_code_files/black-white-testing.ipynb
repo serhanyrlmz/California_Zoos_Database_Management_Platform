{
  "nbformat": 4,
  "nbformat_minor": 0,
  "metadata": {
    "colab": {
      "provenance": []
    },
    "kernelspec": {
      "name": "python3",
      "display_name": "Python 3"
    },
    "language_info": {
      "name": "python"
    }
  },
  "cells": [
    {
      "cell_type": "code",
      "execution_count": null,
      "metadata": {
        "id": "Wt4sPqWl9Dip"
      },
      "outputs": [],
      "source": [
        "#BLACK BOX\n",
        "import unittest\n",
        "from bestFit import bestFit\n",
        "class bestFitTest(unittest.TestCase):\n",
        "    def test_empty(self):\n",
        "        self.assertEqual(bestFit([0], 0, 0), 0)\n",
        "    def test_regularInputTest(self):\n",
        "        weights = [1,2,1]\n",
        "        result = bestFit(weights, len(weights), 3)\n",
        "        expected = 2\n",
        "        self.assertEqual(result, expected)\n",
        "    def test_zeroBinSize(self):\n",
        "        weights = [1,2,1]\n",
        "        result = bestFit(weights, len(weights), 0)\n",
        "        expected = 3\n",
        "        self.assertEqual(result, expected)\n",
        "    def test_oneBinSize(self):\n",
        "        weights = [1,2,1]\n",
        "        result = bestFit(weights, len(weights), 1)\n",
        "        expected = 3\n",
        "        self.assertEqual(result, expected)"
      ]
    },
    {
      "cell_type": "code",
      "source": [
        "#WHITE BOX\n",
        "import unittest\n",
        "from bin import Bin\n",
        "from bin import getFilledBinsCount\n",
        "from bin import bins\n",
        "class binTest(unittest.TestCase):\n",
        "    def test_put_half(self):\n",
        "        bin = Bin(10)\n",
        "        self.assertTrue(bin.put(5))\n",
        "    def test_fill(self):\n",
        "        bin = Bin(10)\n",
        "        self.assertTrue(bin.put(5))\n",
        "    def test_put_too_much(self):\n",
        "        bin = Bin(10)\n",
        "        self.assertFalse(bin.put(11))\n",
        "    def test_remove(self):\n",
        "        bin = Bin(10)\n",
        "        bin.put(5)\n",
        "        bin.remove(5)\n",
        "        self.assertEqual(len(bin.contents), 0)\n",
        "    def test_getFilledBinsCount(self):\n",
        "        self.assertEqual(getFilledBinsCount(),0)\n",
        "    def test_getFilledBinsCountFull(self):\n",
        "        bins[0].put(9)\n",
        "        self.assertEqual(getFilledBinsCount(),1)"
      ],
      "metadata": {
        "id": "K7JR6X-N9Fq1"
      },
      "execution_count": null,
      "outputs": []
    }
  ]
}