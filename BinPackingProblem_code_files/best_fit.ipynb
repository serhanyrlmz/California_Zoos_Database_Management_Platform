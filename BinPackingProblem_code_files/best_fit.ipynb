{
  "nbformat": 4,
  "nbformat_minor": 0,
  "metadata": {
    "colab": {
      "provenance": []
    },
    "kernelspec": {
      "name": "python3",
      "display_name": "Python 3"
    },
    "language_info": {
      "name": "python"
    }
  },
  "cells": [
    {
      "cell_type": "code",
      "execution_count": 38,
      "metadata": {
        "colab": {
          "base_uri": "https://localhost:8080/"
        },
        "id": "QpIOAdVHFQwj",
        "outputId": "7ef5e97d-3a81-42fc-c8d5-48b9e38f08cb"
      },
      "outputs": [
        {
          "output_type": "stream",
          "name": "stdout",
          "text": [
            "Sizes of items: [6, 5, 4, 7, 3, 1, 4, 6]\n",
            "Number of items: 8\n",
            "Bin capacity: 7\n",
            "Minimum number of bins required (desired output): 6\n",
            "Bin 1 : [6, 1]\n",
            "Bin 2 : [5]\n",
            "Bin 3 : [4, 3]\n",
            "Bin 4 : [7]\n",
            "Bin 5 : [4]\n",
            "Bin 6 : [6]\n"
          ]
        }
      ],
      "source": [
        "import random\n",
        "\n",
        "# Best Fit algorithm for bin packing\n",
        "def best_fit(item_sizes, bin_capacity):\n",
        "    bins = []  # List to store the bins and their current occupancy\n",
        "    for size in item_sizes:\n",
        "        # Find the bin with the smallest remaining capacity that can accommodate the current item\n",
        "        best_bin_index = -1\n",
        "        best_remaining_capacity = bin_capacity + 1  # Initialize with a value greater than the bin capacity\n",
        "\n",
        "        for i in range(len(bins)):\n",
        "            remaining_capacity = bin_capacity - sum(bins[i])\n",
        "            if size <= remaining_capacity and remaining_capacity < best_remaining_capacity:\n",
        "                best_bin_index = i\n",
        "                best_remaining_capacity = remaining_capacity\n",
        "\n",
        "        if best_bin_index == -1:\n",
        "            # Create a new bin if no existing bin can accommodate the current item\n",
        "            bins.append([size])\n",
        "        else:\n",
        "            # Add the item to the best bin found\n",
        "            bins[best_bin_index].append(size)\n",
        "\n",
        "    return bins\n",
        "\n",
        "# Generating test cases\n",
        "def generate_instances(num_tests, item_num_range, bin_capacity_range):\n",
        "    instances = []\n",
        "    for _ in range(num_tests):\n",
        "        bin_capacity = random.randint(bin_capacity_range[0], bin_capacity_range[1])\n",
        "        max_item_size = bin_capacity\n",
        "        num_items = random.randint(item_num_range[0], item_num_range[1])\n",
        "        items = [random.randint(1, max_item_size) for _ in range(num_items)]\n",
        "        instances.append((bin_capacity, items))\n",
        "    return instances\n",
        "\n",
        "# Generate a single test case\n",
        "instances = generate_instances(1, (5, 10), (4, 15))\n",
        "for bin_capacity, items in instances:\n",
        "    print(\"Sizes of items:\", items)\n",
        "    print(\"Number of items:\", len(items))\n",
        "    print(\"Bin capacity:\", bin_capacity)\n",
        "    bins = best_fit(items, bin_capacity)\n",
        "    print(\"Minimum number of bins required (desired output):\", len(bins))\n",
        "    for i, bin_contents in enumerate(bins):\n",
        "        print(\"Bin\", i+1, \":\", bin_contents)\n"
      ]
    }
  ]
}